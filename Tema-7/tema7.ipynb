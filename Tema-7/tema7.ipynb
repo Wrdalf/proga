{
 "cells": [
  {
   "cell_type": "markdown",
   "metadata": {},
   "source": [
    "# ТЕМА 7. РАБОТА С ФАЙЛАМИ (ВВОД, ВЫВОД)\n",
    "\n",
    "## 7.1 Работа с файлами txt\n",
    "Работа с текстовыми файлами в python предоставляет возможность чтения данных их файла, записи данных в файл, а также обработки содержимого файла. Вот основные операции работы с текстовыми файлами:\n",
    "\n",
    "* Открытие файла. Для работы с файлом сначала нужно открыть его. Для этого используется функция open(), которой передаются два аргумента: имя файла и режим доступа. Режим доступа может быть \"r\" (чтение), \"w\" (запись), \"a\" (добавление) и другие"
   ]
  },
  {
   "cell_type": "code",
   "execution_count": null,
   "metadata": {},
   "outputs": [],
   "source": [
    "file = open (\"file.txt\", \"r\")"
   ]
  },
  {
   "cell_type": "markdown",
   "metadata": {},
   "source": [
    "### чтение содержимого файла. Для чтения данных из файла можно использовать методы read(), readline(), readlines().\n",
    "\n",
    "Метод read() читает содержимое файла целиком и возвращает его как строку."
   ]
  },
  {
   "cell_type": "code",
   "execution_count": null,
   "metadata": {},
   "outputs": [],
   "source": [
    "file = open (\"file.txt\", \"r\")\n",
    "line = file.read()"
   ]
  },
  {
   "cell_type": "markdown",
   "metadata": {},
   "source": [
    "Метод readline() читает одну строку из файла"
   ]
  },
  {
   "cell_type": "code",
   "execution_count": null,
   "metadata": {},
   "outputs": [],
   "source": [
    "file = open (\"file.txt\", \"r\")\n",
    "line = file.readline()"
   ]
  },
  {
   "cell_type": "markdown",
   "metadata": {},
   "source": [
    "метод readlines() читает все строки из файла и возвращает их в виде списка строк"
   ]
  },
  {
   "cell_type": "code",
   "execution_count": null,
   "metadata": {},
   "outputs": [],
   "source": [
    "file = open (\"file.txt\", \"r\")\n",
    "line = file.readlines()"
   ]
  },
  {
   "cell_type": "markdown",
   "metadata": {},
   "source": [
    "### Запись в файл.\n",
    "Для записи данных в файл используется метод write(). При этом файл должен быть открыт в режиме записи (\"w\" или \"a\")"
   ]
  },
  {
   "cell_type": "code",
   "execution_count": null,
   "metadata": {},
   "outputs": [],
   "source": [
    "file = open (\"file.txt\", \"w\")\n",
    "file.write(\"New line\")\n",
    "file.close()"
   ]
  },
  {
   "cell_type": "markdown",
   "metadata": {},
   "source": [
    "### Добавление в файл. \n",
    "Если требуется добавить данные в конец файла, можно открыть его в режиме добавление (a) и использовать метод write()"
   ]
  },
  {
   "cell_type": "code",
   "execution_count": null,
   "metadata": {},
   "outputs": [],
   "source": [
    "file = open (\"file.txt\", \"a\")\n",
    "file.write(\"New line\")\n",
    "file.close()"
   ]
  },
  {
   "cell_type": "markdown",
   "metadata": {},
   "source": [
    "### Закрытие файла.\n",
    "после окончания работы с файлом необходимо закрыть его с помощью метода close(), закрытие файла освобождает ресурсы операционной системы."
   ]
  },
  {
   "cell_type": "code",
   "execution_count": null,
   "metadata": {},
   "outputs": [],
   "source": [
    "file = open (\"file.txt\", \"a\")\n",
    "\n",
    "file.close()"
   ]
  },
  {
   "cell_type": "markdown",
   "metadata": {},
   "source": [
    "Рекомендуется использовать конструкцию with open(), которая автоматически закрывыает файл после окончания работы с ним. Это помогает избежать потенциальных проблем с учечкой ресурсов"
   ]
  },
  {
   "cell_type": "code",
   "execution_count": null,
   "metadata": {},
   "outputs": [],
   "source": [
    "with open(\"file.txt\", \"r\") as file:\n",
    "    content = file.read()"
   ]
  },
  {
   "cell_type": "markdown",
   "metadata": {},
   "source": [
    "Важно помнить о правильной обработке исключений при работе с файлами.\n",
    "\n",
    "При работе с файлами рекомендуется обрабатывать исключения, чтобы предотвратить возможные ошибки и обеспечить корректное выполнение операций. Вот несколько советов по правильной обработке исключений при работе с файлами:\n",
    "\n",
    "* Использовать конструкции try-except-finally. Оберните операции с файлом в блок try и обработайте возможные исключения в блоке except. Закройте файл в блоке finally для гарантированного освобождения ресурсов"
   ]
  },
  {
   "cell_type": "code",
   "execution_count": null,
   "metadata": {},
   "outputs": [],
   "source": [
    "try: \n",
    "    file = open(\"file.txt\", \"r\")\n",
    "\n",
    "except FileNotFoundError:\n",
    "    print(\"файл не найден\")\n",
    "\n",
    "except IOError:\n",
    "    print(\"Ошибка ввода-вывода\")\n",
    "\n",
    "finally:\n",
    "    file.close()"
   ]
  },
  {
   "cell_type": "code",
   "execution_count": null,
   "metadata": {},
   "outputs": [],
   "source": []
  }
 ],
 "metadata": {
  "language_info": {
   "name": "python"
  }
 },
 "nbformat": 4,
 "nbformat_minor": 2
}
