{
 "cells": [
  {
   "cell_type": "markdown",
   "metadata": {},
   "source": [
    "# ТЕМА 6. Базовые коллекции: словари, кортежи."
   ]
  },
  {
   "cell_type": "markdown",
   "metadata": {},
   "source": [
    "## 6.1. Словари\n",
    "\n",
    "Словарь(dictionary): словарь представляет неупорядоченную коллекцию пар ключ-значение. Каждый элемент в словаре имеет уникальный ключ, и к нему можно обратиться по ключу для получения значение. Словари в Python обозначаются фигурными скобками {} и используются для хранения и доступа к данным с помощью ключей.\n",
    "\n",
    "    пример создания словаря в Python:"
   ]
  },
  {
   "cell_type": "code",
   "execution_count": null,
   "metadata": {},
   "outputs": [],
   "source": [
    "my_dict = { \"apple\": 1, \"banana\": 2, \"cherry\": 3 }"
   ]
  },
  {
   "cell_type": "markdown",
   "metadata": {},
   "source": [
    "доступ к значениям словаря осуществляется по ключу."
   ]
  },
  {
   "cell_type": "code",
   "execution_count": null,
   "metadata": {},
   "outputs": [],
   "source": [
    "my_dict = { \"apple\": 1, \"banana\": 2, \"cherry\": 3 }\n",
    "\n",
    "value = my_dict[\"banana\"]"
   ]
  },
  {
   "cell_type": "markdown",
   "metadata": {},
   "source": [
    "## 6.2 Виды создания словарей\n",
    "\n",
    "В Python существует несколько способов создания словарей. Рассморим некоторые из них:\n",
    "## 1) литералы словаря\n",
    "С использованием фигурных скобок {} и указанием пар ключ-значение через двоеточие :"
   ]
  },
  {
   "cell_type": "code",
   "execution_count": null,
   "metadata": {},
   "outputs": [],
   "source": [
    "my_dict = { \"apple\": 1, \"banana\": 2, \"cherry\": 3 }"
   ]
  },
  {
   "cell_type": "markdown",
   "metadata": {},
   "source": [
    "## 2) Функция dict()\n",
    "С использованием функции dict() и передачей итерируемого объекта, содержащего последовательность пар ключ-значение"
   ]
  },
  {
   "cell_type": "code",
   "execution_count": 2,
   "metadata": {},
   "outputs": [],
   "source": [
    "my_dict = dict([(\"apple\", 1), (\"banana\", 2), (\"cherry\", 3)])"
   ]
  },
  {
   "cell_type": "markdown",
   "metadata": {},
   "source": [
    "## 3) компрехеншин словаря (Dictionary comprehension)\n",
    "Позволяет создавать словари на основе выражений и итерирования"
   ]
  },
  {
   "cell_type": "code",
   "execution_count": null,
   "metadata": {},
   "outputs": [],
   "source": [
    "my_dict = {x: x**2 for x in range(1,5)}"
   ]
  },
  {
   "cell_type": "markdown",
   "metadata": {},
   "source": [
    "## 4) Метод fromkeys():\n",
    "создает новый словарь с указанными ключами и опциональным значением для всех ключей"
   ]
  },
  {
   "cell_type": "code",
   "execution_count": null,
   "metadata": {},
   "outputs": [],
   "source": [
    "keys = [\"apple\", \"banana\", \"cherry\"]\n",
    "my_dict = dict.fromkeys(keys, 0)"
   ]
  },
  {
   "cell_type": "markdown",
   "metadata": {},
   "source": [
    "Обратите внимание, что при сосздании словаря с помощью литералов или функции dict(), порядок элементов может не сохраняться, так как словари в Python являются неупорядоченной коллекцией. Если вам требуется сохранить порядок элементов, вы можете использовать класс collection.OrderedDict"
   ]
  },
  {
   "cell_type": "code",
   "execution_count": null,
   "metadata": {},
   "outputs": [],
   "source": [
    "import collections\n",
    "\n",
    "my_dict = collections.OrderedDict([(\"apple\", 1), (\"banana\", 2), (\"cherry\", 3)])"
   ]
  },
  {
   "cell_type": "code",
   "execution_count": null,
   "metadata": {},
   "outputs": [],
   "source": [
    "import collections\n",
    "\n",
    "my_dict = collections.OrderedDict()\n",
    "my_dict[\"apple\"] = 1\n",
    "my_dict[\"banana\"] = 2\n",
    "my_dict[\"cherry\"] = 3"
   ]
  },
  {
   "cell_type": "markdown",
   "metadata": {},
   "source": [
    "## 6.3 Методы словарей\n",
    "В python словари (dict) предоставляют ряд встроенных методов для выполнения различных операций. Вот некоторые из наиболее часто используемых методов словарей:\n",
    "\n",
    "* keys(): возвращает представление всех ключей в словаре"
   ]
  },
  {
   "cell_type": "code",
   "execution_count": null,
   "metadata": {},
   "outputs": [],
   "source": [
    "my_dict = { \"apple\": 1, \"banana\": 2, \"cherry\": 3 }\n",
    "keys = my_dict.keys()"
   ]
  },
  {
   "cell_type": "markdown",
   "metadata": {},
   "source": [
    "* values(): возвращает представление всех значений в словаре"
   ]
  },
  {
   "cell_type": "code",
   "execution_count": null,
   "metadata": {},
   "outputs": [],
   "source": [
    "my_dict = { \"apple\": 1, \"banana\": 2, \"cherry\": 3 }\n",
    "values = my_dict.values()"
   ]
  },
  {
   "cell_type": "markdown",
   "metadata": {},
   "source": [
    "* items(): возвращает представление всехпар ключ-значение в словаре"
   ]
  },
  {
   "cell_type": "code",
   "execution_count": null,
   "metadata": {},
   "outputs": [],
   "source": [
    "my_dict = { \"apple\": 1, \"banana\": 2, \"cherry\": 3 }\n",
    "items = my_dict.items()"
   ]
  },
  {
   "cell_type": "markdown",
   "metadata": {},
   "source": [
    "* get(key, default): возвращает значение, связанное с указнным ключом. Если ключ не найден, возвращается значение по умолчанию"
   ]
  },
  {
   "cell_type": "code",
   "execution_count": null,
   "metadata": {},
   "outputs": [],
   "source": [
    "my_dict = { \"apple\": 1, \"banana\": 2, \"cherry\": 3 }\n",
    "value = my_dict.get(\"apple\", 0)"
   ]
  },
  {
   "cell_type": "markdown",
   "metadata": {},
   "source": [
    "* pop(key, default): удаляет элемент с указанным ключом и возвращает его значение. если ключ не найден, возвращается значение по умолчанию."
   ]
  },
  {
   "cell_type": "code",
   "execution_count": 3,
   "metadata": {},
   "outputs": [],
   "source": [
    "my_dict = { \"apple\": 1, \"banana\": 2, \"cherry\": 3 }\n",
    "value = my_dict.pop(\"banana\", 0)"
   ]
  },
  {
   "cell_type": "markdown",
   "metadata": {},
   "source": [
    "* popitem(): удаляет и возвращает произвольную пару ключ-значение из другого словаря."
   ]
  },
  {
   "cell_type": "code",
   "execution_count": null,
   "metadata": {},
   "outputs": [],
   "source": [
    "my_dict = { \"apple\": 1, \"banana\": 2, \"cherry\": 3 }\n",
    "key, value = my_dict.popitem()"
   ]
  },
  {
   "cell_type": "markdown",
   "metadata": {},
   "source": [
    "update(other_dict): обновляет словарь, добавляя пары ключ-значение из другого словаря."
   ]
  },
  {
   "cell_type": "code",
   "execution_count": null,
   "metadata": {},
   "outputs": [],
   "source": [
    "my_dict = { \"apple\": 1, \"banana\": 2}\n",
    "other_dict = {\"cherry\": 3, \"date\": 4 }\n",
    "my_dict.update(other_dict)"
   ]
  },
  {
   "cell_type": "markdown",
   "metadata": {},
   "source": [
    "* clear(): удаляет все элементы из словаря"
   ]
  },
  {
   "cell_type": "code",
   "execution_count": null,
   "metadata": {},
   "outputs": [],
   "source": [
    "my_dict = { \"apple\": 1, \"banana\": 2, \"cherry\": 3 }\n",
    "my_dict.clear()"
   ]
  },
  {
   "cell_type": "markdown",
   "metadata": {},
   "source": [
    "* copy(): создает и возвращяет копию словаря"
   ]
  },
  {
   "cell_type": "code",
   "execution_count": null,
   "metadata": {},
   "outputs": [],
   "source": [
    "my_dict = { \"apple\": 1, \"banana\": 2, \"cherry\": 3 }\n",
    "copy_dict = my_dict.copy()"
   ]
  },
  {
   "cell_type": "markdown",
   "metadata": {},
   "source": [
    "Это лишь некоторые из методов словарей в Python. С помощью них можно выполнять различные операции, включая получение ключей, значений и пар ключ-значение, добавление и удаление элементов, обновление и многое другое."
   ]
  },
  {
   "cell_type": "markdown",
   "metadata": {},
   "source": [
    "## 6.4 Обращения к элементам словаря\n",
    "В Python доступ к элементам словаря осуществляется по ключу. Поскольку словари являются неупорядоченными коллекциями, они не поддерживают индексацию элементов, как это делается в случае со списками. Вот несколько способов обращения к элементам словаря:\n",
    "\n",
    "* Использование квадратных скобок []:\n",
    "чтение значения по ключу"
   ]
  },
  {
   "cell_type": "code",
   "execution_count": null,
   "metadata": {},
   "outputs": [],
   "source": [
    "my_dict = { \"apple\": 1, \"banana\": 2, \"cherry\": 3 }\n",
    "value = my_dict[\"apple\"]"
   ]
  },
  {
   "cell_type": "markdown",
   "metadata": {},
   "source": [
    "Обновление значения по ключу:"
   ]
  },
  {
   "cell_type": "code",
   "execution_count": null,
   "metadata": {},
   "outputs": [],
   "source": [
    "my_dict = { \"apple\": 1, \"banana\": 2, \"cherry\": 3 }\n",
    "my_dict[\"banana\"] = 5"
   ]
  },
  {
   "cell_type": "markdown",
   "metadata": {},
   "source": [
    "* Метод get()\n",
    "Чтение значения по ключу с использованием метода get(). Если ключ не найден, можно указать значение по умолчанию"
   ]
  },
  {
   "cell_type": "code",
   "execution_count": null,
   "metadata": {},
   "outputs": [],
   "source": [
    "my_dict = { \"apple\": 1, \"banana\": 2, \"cherry\": 3 }\n",
    "value = my_dict.get(\"banana\")\n",
    "value = my_dict.get(\"date\", 0)"
   ]
  },
  {
   "cell_type": "markdown",
   "metadata": {},
   "source": [
    "* Метод keys(), values(), items():\n",
    "итерация по клчам, значениям и парам ключ-значение"
   ]
  },
  {
   "cell_type": "code",
   "execution_count": 4,
   "metadata": {},
   "outputs": [
    {
     "name": "stdout",
     "output_type": "stream",
     "text": [
      "apple\n",
      "banana\n",
      "cherry\n",
      "1\n",
      "2\n",
      "3\n",
      "apple 1\n",
      "banana 2\n",
      "cherry 3\n"
     ]
    }
   ],
   "source": [
    "my_dict = { \"apple\": 1, \"banana\": 2, \"cherry\": 3 }\n",
    "\n",
    "for key in my_dict.keys():\n",
    "    print(key)\n",
    "\n",
    "for value in my_dict.values():\n",
    "    print(value)\n",
    "\n",
    "for key, value in my_dict.items():\n",
    "    print(key, value)"
   ]
  },
  {
   "cell_type": "markdown",
   "metadata": {},
   "source": [
    "Обратите внимание, что при обращении к несуществующему ключу будет вознимать исключение KeyError. Чтобы избежать этой ошибки, можно использовать метод get() с опциональным значением по умолчанию или проверять наличие ключа с помощью оператора in перед обращением к нему."
   ]
  },
  {
   "cell_type": "code",
   "execution_count": null,
   "metadata": {},
   "outputs": [],
   "source": [
    "my_dict = { \"apple\": 1, \"banana\": 2, \"cherry\": 3 }\n",
    "\n",
    "if \"apple\" in my_dict:\n",
    "    value = my_dict[\"apple\"]\n",
    "else:\n",
    "    value = 0"
   ]
  },
  {
   "cell_type": "markdown",
   "metadata": {},
   "source": [
    "## 6.5 Кортежи\n",
    "В python кортеж tuple представляет собой неизменяемую упорядоченную коллекцию объектов. Кортежи очень похожи на списки, но имеют несколько отличий. Основные особенности кортежей:\n",
    "\n",
    "* неизменяемость: кортежи не могут быть изменены после создания. Это означает, что нельзя добавлять, удалять или изменять элементы кортежа. Однако, если элементы кортежа являются изменяемыми объектами, то их состояние может быть изменено.\n",
    "\n",
    "* Упорядоченность: элементы в кортеже упорядоченны и доступ к ним осуществляется по индексу.\n",
    "\n",
    "* Доступ к элементам: К элементам кортежа можно обращаться по индексу, так же как и к элементам списка. \n",
    "\n",
    "* Использование круглых скобок: для создания кортежа используются круглые скобки() или иногда их можно опустить при объявлении кортежа\n",
    "\n",
    "Примеры создания кортежей:\n"
   ]
  },
  {
   "cell_type": "code",
   "execution_count": null,
   "metadata": {},
   "outputs": [],
   "source": [
    "my_tuple = (1, 2, 3)\n",
    "another_tuple = 4, 5, 6\n",
    "empty_tuple = ()\n",
    "single_tuple = (7,)"
   ]
  },
  {
   "cell_type": "markdown",
   "metadata": {},
   "source": [
    "Обращение к элементам кортежа происходит по индексу, начиная с 0"
   ]
  },
  {
   "cell_type": "code",
   "execution_count": null,
   "metadata": {},
   "outputs": [],
   "source": [
    "my_tuple = (1, 2, 3)\n",
    "print(my_tuple[0])"
   ]
  },
  {
   "cell_type": "markdown",
   "metadata": {},
   "source": [
    "* использование круглых скобок\n",
    "если элементы кортежа перечислены через запятую без использования круглых скобок, Python автоматически создаст кортеж."
   ]
  },
  {
   "cell_type": "code",
   "execution_count": null,
   "metadata": {},
   "outputs": [],
   "source": [
    "my_tuple = 4, 5, 6"
   ]
  },
  {
   "cell_type": "markdown",
   "metadata": {},
   "source": [
    "* использование функции tuple()\n",
    "Функция tuple() может быть использована для создания кортежа из итерируемого объекта, например, списка."
   ]
  },
  {
   "cell_type": "code",
   "execution_count": null,
   "metadata": {},
   "outputs": [],
   "source": [
    "my_list = [1, 2, 3]\n",
    "my_tuple = tuple(my_list)"
   ]
  },
  {
   "cell_type": "markdown",
   "metadata": {},
   "source": [
    "* кортеж с одним элементом\n",
    "Если кортеж содержит только одиин элемент, необходимо добавить запятую после элемента, чтобы Python распознал его как кортеж, а не простое значение"
   ]
  },
  {
   "cell_type": "code",
   "execution_count": null,
   "metadata": {},
   "outputs": [],
   "source": [
    "single_tuple = (7,)"
   ]
  },
  {
   "cell_type": "markdown",
   "metadata": {},
   "source": [
    "* Пустой кортеж\n",
    "Пустой кортеж можно создать, просто указав пустые круглые скобки ()."
   ]
  },
  {
   "cell_type": "code",
   "execution_count": null,
   "metadata": {},
   "outputs": [],
   "source": [
    "empty_tuple = ()"
   ]
  },
  {
   "cell_type": "markdown",
   "metadata": {},
   "source": [
    "Обратите внимание, что кортежи являются неизменяемыми, поэтому после создания нельзя добавлять, удалять или изменять элемнты кортежа. Однако, если элементы кортежа являются изменяемыми объектами, их состояние может быть изменено"
   ]
  },
  {
   "cell_type": "code",
   "execution_count": null,
   "metadata": {},
   "outputs": [],
   "source": [
    "my_tuple = (1, 2, 3)\n",
    "my_tuple[0] = 4 # Ошибка: кортежи неизменяемы"
   ]
  },
  {
   "cell_type": "markdown",
   "metadata": {},
   "source": [
    "Кортежи широко используются для представления упорядоченных наборов данных, которые не должны быть изменяемыми. Они также могут быть использованы для передачи нескольких значений в качестве возвращаемого значения функции или в качестве аргументов функции, когда требуется сохранить порядок передачи данных."
   ]
  },
  {
   "cell_type": "markdown",
   "metadata": {},
   "source": [
    "## 6.6 Операции над кортежами\n",
    "Кортежи в Python являются неизменяемыми, что означает, что после создания нельзя изменять их элементы. Однако, существуют некоторые операции, которые можно выполнять над кортежами:\n",
    "\n",
    "* доступ к элементам\n",
    "\n",
    "Как и в случае со списками, доступ к элементам кортежа осуществляется по индексу, начиная с 0."
   ]
  },
  {
   "cell_type": "code",
   "execution_count": null,
   "metadata": {},
   "outputs": [],
   "source": [
    "my_tuple = (1, 2, 3)\n",
    "value = my_tuple[0]"
   ]
  },
  {
   "cell_type": "markdown",
   "metadata": {},
   "source": [
    "* Срезы \n",
    "Кортежи поддерживают операцию среза, позволяющую получить подкортеж из определенного диапазона элементов."
   ]
  },
  {
   "cell_type": "code",
   "execution_count": null,
   "metadata": {},
   "outputs": [],
   "source": [
    "my_tuple = 1, 2, 3, 5, 6\n",
    "sub_tuple = my_tuple[1:4]"
   ]
  },
  {
   "cell_type": "markdown",
   "metadata": {},
   "source": [
    "* Конкатенация\n",
    "Для кортежа можно объединить с помощью оператора +, создавая новый кортеж, содержащий элементы обоих кортежей."
   ]
  },
  {
   "cell_type": "code",
   "execution_count": null,
   "metadata": {},
   "outputs": [],
   "source": [
    "tuple1 = 1, 2, 3\n",
    "tuple2 = 4, 5, 6\n",
    "merged_tuple = tuple1 + tuple2"
   ]
  },
  {
   "cell_type": "markdown",
   "metadata": {},
   "source": [
    "* Длина кортежа\n",
    "функция len() возвращает количество элементов в кортеже"
   ]
  },
  {
   "cell_type": "code",
   "execution_count": null,
   "metadata": {},
   "outputs": [],
   "source": [
    "my_tuple = 1, 2, 3\n",
    "lenght = len(my_tuple)"
   ]
  },
  {
   "cell_type": "markdown",
   "metadata": {},
   "source": [
    "* повторение\n",
    "Кортеж можно повторить определенное количество раз с помощью оператора умножения *"
   ]
  },
  {
   "cell_type": "code",
   "execution_count": null,
   "metadata": {},
   "outputs": [],
   "source": [
    "my_tuple\n",
    "repeated_tuple = my_tuple * 3"
   ]
  },
  {
   "cell_type": "markdown",
   "metadata": {},
   "source": [
    "* Проверка наличия элемента\n",
    "Оператор in позволяет проверить, содерижтся ли элемент в кортеже."
   ]
  },
  {
   "cell_type": "code",
   "execution_count": null,
   "metadata": {},
   "outputs": [],
   "source": [
    "my_tuple = 1, 2, 3\n",
    "contains = 2 in my_tuple"
   ]
  },
  {
   "cell_type": "markdown",
   "metadata": {},
   "source": [
    "Обратите внимание, что все эти операции не изменяют исходный кортеж, а создают новые кортежи или возвращение значения."
   ]
  },
  {
   "cell_type": "markdown",
   "metadata": {},
   "source": [
    "## 6.7 Кортеж как параметр и результат функции\n",
    "\n",
    "В Python кортежи могут использоваться как параметры и результаты функции. Это позволяет передавать и возвращать несколько значений вместе.\n",
    "\n",
    "* Кортеж как параметр функции. Вы можете передать кортеж в качестве параметра фукнции, чтобы передать несколько значений одновременно"
   ]
  },
  {
   "cell_type": "code",
   "execution_count": 5,
   "metadata": {},
   "outputs": [
    {
     "name": "stdout",
     "output_type": "stream",
     "text": [
      "1\n",
      "2\n",
      "3\n"
     ]
    }
   ],
   "source": [
    "def my_function(my_tuple):\n",
    "    for value in my_tuple:\n",
    "        print(value)\n",
    "\n",
    "my_tuple = (1, 2, 3)\n",
    "my_function(my_tuple)"
   ]
  },
  {
   "cell_type": "markdown",
   "metadata": {},
   "source": [
    "* Кортеж в качестве возвращаемого значения функции. Функция может возвращать кортеж вместо одного значения. Это позволяет вернуть несколько результатов из функции"
   ]
  },
  {
   "cell_type": "code",
   "execution_count": 6,
   "metadata": {},
   "outputs": [
    {
     "name": "stdout",
     "output_type": "stream",
     "text": [
      "(1, 2, 3)\n"
     ]
    }
   ],
   "source": [
    "def my_function():\n",
    "    return 1, 2, 3\n",
    "\n",
    "result_tuple = my_function()\n",
    "print(result_tuple)"
   ]
  },
  {
   "cell_type": "markdown",
   "metadata": {},
   "source": [
    "* распаковка кортежа. Кортеж можно распаковать для присваивания его элементов отдельным переменным"
   ]
  },
  {
   "cell_type": "code",
   "execution_count": 7,
   "metadata": {},
   "outputs": [
    {
     "name": "stdout",
     "output_type": "stream",
     "text": [
      "1 2 3\n"
     ]
    }
   ],
   "source": [
    "my_tuple = (1, 2, 3)\n",
    "a, b, c = my_tuple\n",
    "print(a, b, c)"
   ]
  },
  {
   "cell_type": "markdown",
   "metadata": {},
   "source": [
    "Кортежи как параметры функций и их использование в качестве возвращаемых значений являются полезным инструментов для передачи и получения нескольких значений одновременно. Они позволяют группировать связанные данные в структуры и работать с ними как с единым объектом"
   ]
  },
  {
   "cell_type": "markdown",
   "metadata": {},
   "source": [
    "Кортежи в Python имеют многочисленные применения и являются полезными в различных ситуациях. Они могут быть использованы для представления неизменямых данных, передачи нескольким значений в функции, возвращения нескольких результатов из функции, структурирования данных и обеспечения целостности данных в программе."
   ]
  }
 ],
 "metadata": {
  "kernelspec": {
   "display_name": "Python 3",
   "language": "python",
   "name": "python3"
  },
  "language_info": {
   "codemirror_mode": {
    "name": "ipython",
    "version": 3
   },
   "file_extension": ".py",
   "mimetype": "text/x-python",
   "name": "python",
   "nbconvert_exporter": "python",
   "pygments_lexer": "ipython3",
   "version": "3.12.2"
  }
 },
 "nbformat": 4,
 "nbformat_minor": 2
}
